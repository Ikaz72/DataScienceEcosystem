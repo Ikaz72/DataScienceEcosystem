{
 "cells": [
  {
   "cell_type": "markdown",
   "id": "d3da769a-8745-43e8-b86b-3b3480a76032",
   "metadata": {},
   "source": [
    "# Data Science Tools and Ecosystem"
   ]
  },
  {
   "cell_type": "markdown",
   "id": "75041fc1-550c-485a-ac29-4bab15be1c77",
   "metadata": {},
   "source": [
    "# In this notebook, Data Science Tools and Ecosystem are summarized."
   ]
  },
  {
   "cell_type": "markdown",
   "id": "18bae4e7-2e2a-4f78-be50-f6ecea449020",
   "metadata": {},
   "source": [
    "# Some of the popular languages that Data Scientists use are:"
   ]
  },
  {
   "cell_type": "markdown",
   "id": "84434355-becb-443c-907d-af0835071349",
   "metadata": {},
   "source": [
    "# Some of the commonly used libraries used by Data Scientists include:\n",
    "# Panda Matplotlib Numpy"
   ]
  },
  {
   "cell_type": "markdown",
   "id": "577ac77a-cf4a-4929-bba1-d1d435acb902",
   "metadata": {},
   "source": [
    "|Data Science|\n",
    "|------------|\n",
    "|Apache Spark|\n",
    "|Apache Hadoop|\n",
    "|RStudio|"
   ]
  },
  {
   "cell_type": "markdown",
   "id": "106f4fa9-eb7a-4f7f-8390-570497f9c14c",
   "metadata": {},
   "source": [
    "# Below are a few examples of evaluating arithmetic expressions in Python\n",
    "# + = -"
   ]
  },
  {
   "cell_type": "markdown",
   "id": "201f6241-32a2-401a-bcc7-261cffa56a62",
   "metadata": {},
   "source": [
    "# This a simple arithmetic expression to mutiply then add integers"
   ]
  },
  {
   "cell_type": "code",
   "execution_count": 9,
   "id": "31d917a2-0b13-4de3-ad48-1f0fb53682b0",
   "metadata": {},
   "outputs": [
    {
     "data": {
      "text/plain": [
       "17"
      ]
     },
     "execution_count": 9,
     "metadata": {},
     "output_type": "execute_result"
    }
   ],
   "source": [
    "(3*4)+5"
   ]
  },
  {
   "cell_type": "code",
   "execution_count": 4,
   "id": "c59551a5-1551-4424-a4d2-97c504f378d0",
   "metadata": {},
   "outputs": [
    {
     "name": "stdout",
     "output_type": "stream",
     "text": [
      "200 minutes is equal to 3.3333333333333335 hours.\n"
     ]
    }
   ],
   "source": [
    "def convert_minutes_to_hours(minutes):\n",
    "    hours = minutes / 60\n",
    "    return hours\n",
    "\n",
    "# Example usage\n",
    "minutes = 200\n",
    "hours = convert_minutes_to_hours(minutes)\n",
    "print(f\"{minutes} minutes is equal to {hours} hours.\")"
   ]
  },
  {
   "cell_type": "markdown",
   "id": "6505b5e5-a905-467a-8a0e-ec6aef78357e",
   "metadata": {},
   "source": [
    "# Objectives"
   ]
  },
  {
   "cell_type": "markdown",
   "id": "c1c03662-ef8e-42bb-9fee-90423521b650",
   "metadata": {},
   "source": [
    "# . List popular languages for Data Science"
   ]
  },
  {
   "cell_type": "markdown",
   "id": "8a7e378c-8bee-406b-9fa6-697ec1b24d94",
   "metadata": {},
   "source": [
    "# . using H1 style heading\n"
   ]
  },
  {
   "cell_type": "markdown",
   "id": "31a61d31-d7f1-49b0-9cd6-89dd641eb1f3",
   "metadata": {},
   "source": [
    "# . commonly used libraries in data science"
   ]
  },
  {
   "cell_type": "markdown",
   "id": "058dcca3-ae70-45e2-99c3-2bad85f2bf0e",
   "metadata": {},
   "source": [
    "## Author"
   ]
  },
  {
   "cell_type": "markdown",
   "id": "8fafa719-d57f-40a8-bf01-49e13a85cfb8",
   "metadata": {},
   "source": [
    "Z Medeghri"
   ]
  },
  {
   "cell_type": "code",
   "execution_count": null,
   "id": "21e2c98a-fd16-4e94-befc-b6be908ba5c3",
   "metadata": {},
   "outputs": [],
   "source": []
  }
 ],
 "metadata": {
  "kernelspec": {
   "display_name": "Python 3 (ipykernel)",
   "language": "python",
   "name": "python3"
  },
  "language_info": {
   "codemirror_mode": {
    "name": "ipython",
    "version": 3
   },
   "file_extension": ".py",
   "mimetype": "text/x-python",
   "name": "python",
   "nbconvert_exporter": "python",
   "pygments_lexer": "ipython3",
   "version": "3.12.7"
  }
 },
 "nbformat": 4,
 "nbformat_minor": 5
}
